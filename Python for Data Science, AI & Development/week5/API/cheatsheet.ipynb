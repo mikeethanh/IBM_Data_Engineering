{
 "cells": [
  {
   "cell_type": "code",
   "execution_count": 4,
   "metadata": {},
   "outputs": [
    {
     "name": "stdout",
     "output_type": "stream",
     "text": [
      "Error: Response is not in JSON format.\n"
     ]
    }
   ],
   "source": [
    "\n",
    "import requests\n",
    "\n",
    "# Specify the URL of the API endpoint for retrieving information about fish species.\n",
    "url = \"https://www.fishwatch.gov/api/species\"\n",
    "\n",
    "# Make an HTTP GET request to the specified URL and store the response in the data variable.\n",
    "response = requests.get(url)\n",
    "\n",
    "# Check if the request was successful (status code 200).\n",
    "if response.status_code == 200:\n",
    "    try:\n",
    "        # Parse the JSON data received from the API response using the json() method and store it in the results variable.\n",
    "        results = response.json()\n",
    "        # Print the results to see the retrieved data.\n",
    "        print(results)\n",
    "    except ValueError as e:\n",
    "        # If the response is not in a valid JSON format, print an error message.\n",
    "        print(\"Error: Response is not in JSON format.\")\n",
    "else:\n",
    "    # If the request was not successful, print an error message with the status code.\n",
    "    print(\"Error:\", response.status_code)\n"
   ]
  },
  {
   "cell_type": "code",
   "execution_count": null,
   "metadata": {},
   "outputs": [],
   "source": []
  }
 ],
 "metadata": {
  "kernelspec": {
   "display_name": "Python 3",
   "language": "python",
   "name": "python3"
  },
  "language_info": {
   "codemirror_mode": {
    "name": "ipython",
    "version": 3
   },
   "file_extension": ".py",
   "mimetype": "text/x-python",
   "name": "python",
   "nbconvert_exporter": "python",
   "pygments_lexer": "ipython3",
   "version": "3.11.9"
  }
 },
 "nbformat": 4,
 "nbformat_minor": 2
}
