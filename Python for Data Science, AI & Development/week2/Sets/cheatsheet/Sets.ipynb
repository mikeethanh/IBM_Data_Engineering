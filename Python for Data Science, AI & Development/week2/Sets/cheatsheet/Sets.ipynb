{
 "cells": [
  {
   "cell_type": "code",
   "execution_count": 2,
   "metadata": {},
   "outputs": [],
   "source": [
    "#add()\n",
    "fruits = set()\n",
    "fruits.add(\"mango\")"
   ]
  },
  {
   "cell_type": "code",
   "execution_count": 3,
   "metadata": {},
   "outputs": [],
   "source": [
    "#clear()\n",
    "fruits.clear()"
   ]
  },
  {
   "cell_type": "code",
   "execution_count": 4,
   "metadata": {},
   "outputs": [],
   "source": [
    "#copy()\n",
    "new_fruits = fruits.copy()"
   ]
  },
  {
   "cell_type": "code",
   "execution_count": 6,
   "metadata": {},
   "outputs": [],
   "source": [
    "#Defining Sets\n",
    "empty_set = set() #Creating an Empty \n",
    "fruits2 = {\"apple\", \"banana\", \"orange\"}"
   ]
  },
  {
   "cell_type": "code",
   "execution_count": 7,
   "metadata": {},
   "outputs": [],
   "source": [
    "#discard():Use the `discard()` method to remove a specific element from the set.\n",
    "# Ignores if the element is not found.\n",
    "fruits.discard(\"apple\")"
   ]
  },
  {
   "cell_type": "code",
   "execution_count": 10,
   "metadata": {},
   "outputs": [],
   "source": [
    "colors = set()\n",
    "is_superset = colors.issuperset(fruits)"
   ]
  },
  {
   "cell_type": "code",
   "execution_count": 12,
   "metadata": {},
   "outputs": [],
   "source": [
    "#pop():The `pop()` method removes and returns an arbitrary element from the set.\n",
    "fruits.add(\"superset\")\n",
    "removed_fruit = fruits.pop()"
   ]
  },
  {
   "cell_type": "code",
   "execution_count": 13,
   "metadata": {},
   "outputs": [
    {
     "ename": "KeyError",
     "evalue": "'banana'",
     "output_type": "error",
     "traceback": [
      "\u001b[1;31m---------------------------------------------------------------------------\u001b[0m",
      "\u001b[1;31mKeyError\u001b[0m                                  Traceback (most recent call last)",
      "Cell \u001b[1;32mIn[13], line 3\u001b[0m\n\u001b[0;32m      1\u001b[0m \u001b[38;5;66;03m#remove(): Use the `remove()` method to remove a specific element \u001b[39;00m\n\u001b[0;32m      2\u001b[0m \u001b[38;5;66;03m#from the set. Raises a `KeyError` if the element is not found.\u001b[39;00m\n\u001b[1;32m----> 3\u001b[0m \u001b[43mfruits\u001b[49m\u001b[38;5;241;43m.\u001b[39;49m\u001b[43mremove\u001b[49m\u001b[43m(\u001b[49m\u001b[38;5;124;43m\"\u001b[39;49m\u001b[38;5;124;43mbanana\u001b[39;49m\u001b[38;5;124;43m\"\u001b[39;49m\u001b[43m)\u001b[49m\n",
      "\u001b[1;31mKeyError\u001b[0m: 'banana'"
     ]
    }
   ],
   "source": [
    "#remove(): Use the `remove()` method to remove a specific element \n",
    "#from the set. Raises a `KeyError` if the element is not found.\n",
    "fruits.remove(\"banana\")"
   ]
  },
  {
   "cell_type": "code",
   "execution_count": 14,
   "metadata": {},
   "outputs": [],
   "source": [
    "#Set Operations\n",
    "combined = fruits.union(colors) \n",
    "common = fruits.intersection(colors) \n",
    "unique_to_fruits = fruits.difference(colors) \n",
    "sym_diff = fruits.symmetric_difference(colors)"
   ]
  },
  {
   "cell_type": "code",
   "execution_count": null,
   "metadata": {},
   "outputs": [],
   "source": [
    "#update():The `update()` method adds elements from another iterable into the set\n",
    "fruits.update([\"kiwi\", \"grape\"])s\n",
    "\n"
   ]
  }
 ],
 "metadata": {
  "kernelspec": {
   "display_name": "Python 3",
   "language": "python",
   "name": "python3"
  },
  "language_info": {
   "codemirror_mode": {
    "name": "ipython",
    "version": 3
   },
   "file_extension": ".py",
   "mimetype": "text/x-python",
   "name": "python",
   "nbconvert_exporter": "python",
   "pygments_lexer": "ipython3",
   "version": "3.10.0"
  }
 },
 "nbformat": 4,
 "nbformat_minor": 2
}
