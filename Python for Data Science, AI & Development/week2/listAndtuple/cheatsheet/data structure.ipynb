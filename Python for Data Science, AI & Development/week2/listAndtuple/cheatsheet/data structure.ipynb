{
 "cells": [
  {
   "cell_type": "code",
   "execution_count": 2,
   "metadata": {},
   "outputs": [],
   "source": [
    "#List"
   ]
  },
  {
   "cell_type": "code",
   "execution_count": 4,
   "metadata": {},
   "outputs": [
    {
     "name": "stdout",
     "output_type": "stream",
     "text": [
      "['apple', 'banana', 'orange', 'mango']\n"
     ]
    }
   ],
   "source": [
    "#append(): add an element to the end of a list.\n",
    "fruits = [\"apple\", \"banana\", \"orange\"] \n",
    "fruits.append(\"mango\") \n",
    "print(fruits)"
   ]
  },
  {
   "cell_type": "code",
   "execution_count": 6,
   "metadata": {},
   "outputs": [
    {
     "name": "stdout",
     "output_type": "stream",
     "text": [
      "[1, 2, 3, 4, 5]\n"
     ]
    },
    {
     "data": {
      "text/plain": [
       "[0, 2, 3, 4, 5]"
      ]
     },
     "execution_count": 6,
     "metadata": {},
     "output_type": "execute_result"
    }
   ],
   "source": [
    "#copy()\n",
    "my_list = [1, 2, 3, 4, 5] \n",
    "new_list = my_list.copy() \n",
    "my_list[0] = 0\n",
    "print(new_list) \n",
    "my_list\n",
    "# Output: [1, 2, 3, 4, 5]"
   ]
  },
  {
   "cell_type": "code",
   "execution_count": 8,
   "metadata": {},
   "outputs": [
    {
     "name": "stdout",
     "output_type": "stream",
     "text": [
      "4\n"
     ]
    }
   ],
   "source": [
    "#count():method is used to count the number of occurrences of a specific element\n",
    "my_list = [1, 2, 2, 3, 4, 2, 5, 2] \n",
    "count = my_list.count(2) \n",
    "print(count) "
   ]
  },
  {
   "cell_type": "code",
   "execution_count": 9,
   "metadata": {},
   "outputs": [],
   "source": [
    "#Creating a list\n",
    "fruits = [\"apple\", \"banana\", \"orange\", \"mango\"]"
   ]
  },
  {
   "cell_type": "code",
   "execution_count": 10,
   "metadata": {},
   "outputs": [
    {
     "data": {
      "text/plain": [
       "[10, 20, 40, 50]"
      ]
     },
     "execution_count": 10,
     "metadata": {},
     "output_type": "execute_result"
    }
   ],
   "source": [
    "#del\n",
    "my_list = [10, 20, 30, 40, 50] \n",
    "del my_list[2] # Removes the element at index 2 print(my_list) \n",
    "my_list"
   ]
  },
  {
   "cell_type": "code",
   "execution_count": 11,
   "metadata": {},
   "outputs": [
    {
     "name": "stdout",
     "output_type": "stream",
     "text": [
      "['apple', 'banana', 'orange', 'mango', 'grape']\n"
     ]
    }
   ],
   "source": [
    "#extend(): is used to add multiple elements to a list.\n",
    "# It takes an iterable (such as another list, tuple, or string) \n",
    "#and appends each element of the iterable to the original list.\n",
    "fruits = [\"apple\", \"banana\", \"orange\"] \n",
    "more_fruits = [\"mango\", \"grape\"] \n",
    "fruits.extend(more_fruits) \n",
    "print(fruits)"
   ]
  },
  {
   "cell_type": "code",
   "execution_count": 12,
   "metadata": {},
   "outputs": [
    {
     "name": "stdout",
     "output_type": "stream",
     "text": [
      "10\n",
      "50\n"
     ]
    }
   ],
   "source": [
    "#Indexing\n",
    "my_list = [10, 20, 30, 40, 50] \n",
    "print(my_list[0]) \n",
    "# Output: 10 (accessing the first element) \n",
    "print(my_list[-1]) \n",
    "# Output: 50 (accessing the last element using negative indexing)"
   ]
  },
  {
   "cell_type": "code",
   "execution_count": 13,
   "metadata": {},
   "outputs": [
    {
     "name": "stdout",
     "output_type": "stream",
     "text": [
      "[1, 2, 6, 3, 4, 5]\n"
     ]
    }
   ],
   "source": [
    "#insert()\n",
    "my_list = [1, 2, 3, 4, 5] \n",
    "my_list.insert(2, 6) \n",
    "print(my_list)"
   ]
  },
  {
   "cell_type": "code",
   "execution_count": 14,
   "metadata": {},
   "outputs": [
    {
     "name": "stdout",
     "output_type": "stream",
     "text": [
      "[10, 25, 30, 40, 50]\n"
     ]
    }
   ],
   "source": [
    "#Modifying a list\n",
    "my_list = [10, 20, 30, 40, 50] \n",
    "my_list[1] = 25 # Modifying the second element \n",
    "print(my_list) "
   ]
  },
  {
   "cell_type": "code",
   "execution_count": 16,
   "metadata": {},
   "outputs": [
    {
     "name": "stdout",
     "output_type": "stream",
     "text": [
      "30\n",
      "[10, 20, 40, 50]\n",
      "30\n",
      "[10, 20, 40, 50]\n"
     ]
    }
   ],
   "source": [
    "#pop()\n",
    "my_list = [10, 20, 30, 40, 50] \n",
    "removed_element = my_list.pop(2) # Removes and returns the element at index 2 \n",
    "print(removed_element) \n",
    "# Output: 30 \n",
    "\n",
    "print(my_list) \n",
    "# Output: [10, 20, 40, 50] \n",
    "\n",
    "my_list = [10, 20, 30, 40, 50] \n",
    "removed_element = my_list.pop(2) # Removes and returns the element at index 2 \n",
    "print(removed_element) \n",
    "# Output: 30 \n",
    "\n",
    "print(my_list) \n",
    "# Output: [10, 20, 40, 50] "
   ]
  },
  {
   "cell_type": "code",
   "execution_count": 18,
   "metadata": {},
   "outputs": [
    {
     "name": "stdout",
     "output_type": "stream",
     "text": [
      "[10, 20, 40, 50]\n"
     ]
    }
   ],
   "source": [
    "#remove()\n",
    "my_list = [10, 20, 30, 40, 50] \n",
    "my_list.remove(30) # Removes the element 30 \n",
    "print(my_list) \n"
   ]
  },
  {
   "cell_type": "code",
   "execution_count": 19,
   "metadata": {},
   "outputs": [
    {
     "name": "stdout",
     "output_type": "stream",
     "text": [
      "[5, 4, 3, 2, 1]\n"
     ]
    }
   ],
   "source": [
    "#reverse()\n",
    "my_list = [1, 2, 3, 4, 5] \n",
    "my_list.reverse() \n",
    "print(my_list) "
   ]
  },
  {
   "cell_type": "code",
   "execution_count": 20,
   "metadata": {},
   "outputs": [
    {
     "name": "stdout",
     "output_type": "stream",
     "text": [
      "[2, 3, 4]\n",
      "[1, 2, 3]\n",
      "[3, 4, 5]\n",
      "[1, 3, 5]\n"
     ]
    }
   ],
   "source": [
    "#Slicing\n",
    "my_list = [1, 2, 3, 4, 5] \n",
    "print(my_list[1:4]) \n",
    "# Output: [2, 3, 4] (elements from index 1 to 3)\n",
    "\n",
    "print(my_list[:3]) \n",
    "# Output: [1, 2, 3] (elements from the beginning up to index 2) \n",
    "\n",
    "print(my_list[2:]) \n",
    "# Output: [3, 4, 5] (elements from index 2 to the end) \n",
    "\n",
    "print(my_list[::2]) \n",
    "# Output: [1, 3, 5] (every second element)"
   ]
  },
  {
   "cell_type": "code",
   "execution_count": 21,
   "metadata": {},
   "outputs": [
    {
     "name": "stdout",
     "output_type": "stream",
     "text": [
      "[9, 8, 5, 2, 1]\n"
     ]
    }
   ],
   "source": [
    "#sort()\n",
    "my_list = [5, 2, 8, 1, 9] \n",
    "my_list.sort(reverse=True) \n",
    "print(my_list) \n",
    "# Output: [9, 8, 5, 2, 1]"
   ]
  }
 ],
 "metadata": {
  "kernelspec": {
   "display_name": "Python 3",
   "language": "python",
   "name": "python3"
  },
  "language_info": {
   "codemirror_mode": {
    "name": "ipython",
    "version": 3
   },
   "file_extension": ".py",
   "mimetype": "text/x-python",
   "name": "python",
   "nbconvert_exporter": "python",
   "pygments_lexer": "ipython3",
   "version": "3.10.0"
  }
 },
 "nbformat": 4,
 "nbformat_minor": 2
}
