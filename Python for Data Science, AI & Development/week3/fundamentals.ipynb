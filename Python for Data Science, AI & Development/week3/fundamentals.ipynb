{
 "cells": [
  {
   "cell_type": "code",
   "execution_count": null,
   "metadata": {},
   "outputs": [],
   "source": [
    "#AND\n",
    "marks = 90\n",
    "attendance_percentage = 87\n",
    "\n",
    "if marks >= 80 and attendance_percentage >= 85:\n",
    "    print(\"qualify for honors\")\n",
    "else:\n",
    "    print(\"Not qualified for honors\")\n",
    "\n",
    "# Output = qualify for honors"
   ]
  },
  {
   "cell_type": "code",
   "execution_count": null,
   "metadata": {},
   "outputs": [],
   "source": [
    "#Class Definition\n",
    "class Person: \n",
    "    def __init__(self, name, age): \n",
    "        self.name = name \n",
    "        self.age = age"
   ]
  },
  {
   "cell_type": "code",
   "execution_count": null,
   "metadata": {},
   "outputs": [],
   "source": [
    "#Define Function\n",
    "def greet(name): print(\"Hello,\", name)"
   ]
  },
  {
   "cell_type": "code",
   "execution_count": null,
   "metadata": {},
   "outputs": [],
   "source": [
    "#Equal(==)\n",
    "age = 25 age == 30 "
   ]
  },
  {
   "cell_type": "code",
   "execution_count": null,
   "metadata": {},
   "outputs": [],
   "source": [
    "#For Loop\n",
    "fruits = [\"apple\", \"banana\", \"orange\", \"grape\", \"kiwi\"] \n",
    "for fruit in fruits:\n",
    "    print(fruit)"
   ]
  },
  {
   "cell_type": "code",
   "execution_count": null,
   "metadata": {},
   "outputs": [],
   "source": [
    "#Function Call\n",
    "greet(\"Alice\")"
   ]
  },
  {
   "cell_type": "code",
   "execution_count": null,
   "metadata": {},
   "outputs": [],
   "source": [
    "#Greater Than or Equal To(>=)\n",
    "quantity = 105 \n",
    "minimum = 100 \n",
    "quantity >= minimum "
   ]
  },
  {
   "cell_type": "code",
   "execution_count": null,
   "metadata": {},
   "outputs": [],
   "source": [
    "#Loop Controls\n",
    "for num in range(1, 6):\n",
    "    if num == 3:\n",
    "        break\n",
    "    print(num)"
   ]
  },
  {
   "cell_type": "code",
   "execution_count": null,
   "metadata": {},
   "outputs": [],
   "source": [
    "#Object Creation\n",
    "person1 = Person(\"Alice\", 25)"
   ]
  },
  {
   "cell_type": "code",
   "execution_count": null,
   "metadata": {},
   "outputs": [],
   "source": [
    "#range()\n",
    "range(5) #generates a sequence of integers from 0 to 4. \n",
    "range(2, 10) #generates a sequence of integers from 2 to 9. \n",
    "range(1, 11, 2) #generates odd integers from 1 to 9."
   ]
  },
  {
   "cell_type": "code",
   "execution_count": null,
   "metadata": {},
   "outputs": [],
   "source": [
    "#Return Statement\n",
    "def add(a, b): return a + b \n",
    "result = add(3, 5)"
   ]
  },
  {
   "cell_type": "code",
   "execution_count": null,
   "metadata": {},
   "outputs": [],
   "source": [
    "#Try-Except Block\n",
    "try: \n",
    "    num = int(input(\"Enter a number: \")) \n",
    "except ValueError: \n",
    "    print(\"Invalid input. Please enter a valid number.\")"
   ]
  },
  {
   "cell_type": "code",
   "execution_count": null,
   "metadata": {},
   "outputs": [],
   "source": [
    "#Try-Except with Finally Block\n",
    "try: \n",
    "    file = open(\"data.txt\", \"r\") \n",
    "    data = file.read() \n",
    "except FileNotFoundError: \n",
    "    print(\"File not found.\") \n",
    "finally: \n",
    "    file.close()"
   ]
  }
 ],
 "metadata": {
  "language_info": {
   "name": "python"
  }
 },
 "nbformat": 4,
 "nbformat_minor": 2
}
